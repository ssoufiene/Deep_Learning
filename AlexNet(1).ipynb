{
  "nbformat": 4,
  "nbformat_minor": 0,
  "metadata": {
    "colab": {
      "provenance": [],
      "gpuType": "T4"
    },
    "kernelspec": {
      "name": "python3",
      "display_name": "Python 3"
    },
    "language_info": {
      "name": "python"
    },
    "accelerator": "GPU"
  },
  "cells": [
    {
      "cell_type": "code",
      "source": [
        "import torch\n",
        "import torch.nn as nn\n",
        "import torch.nn.functional as F\n",
        "import torch.optim as optim\n",
        "import matplotlib.pyplot as plt\n",
        "\n"
      ],
      "metadata": {
        "id": "tyQPIT_bmSJ_"
      },
      "execution_count": null,
      "outputs": []
    },
    {
      "cell_type": "markdown",
      "source": [
        "# Device Configuration"
      ],
      "metadata": {
        "id": "siIsOSr5OVik"
      }
    },
    {
      "cell_type": "code",
      "source": [
        "device = torch.device('cuda' if torch.cuda.is_available() else 'cpu')\n"
      ],
      "metadata": {
        "id": "D4uVF0OFOZLN"
      },
      "execution_count": null,
      "outputs": []
    },
    {
      "cell_type": "markdown",
      "source": [
        "#Data"
      ],
      "metadata": {
        "id": "d16V2tse7PeN"
      }
    },
    {
      "cell_type": "code",
      "source": [
        "from torchvision import datasets\n",
        "from torchvision import transforms\n",
        "from torch.utils.data import random_split\n",
        "\n",
        "normalize = transforms.Normalize(\n",
        "    mean=[0.4914, 0.4822, 0.4465],\n",
        "    std=[0.2023, 0.1994, 0.2010]\n",
        ")\n",
        "\n",
        "resize = transforms.Resize((227, 227))\n",
        "transform = transforms.Compose([resize,transforms.ToTensor(),normalize] )\n",
        "\n",
        "train_data = datasets.CIFAR10(\n",
        "    root='./data/',\n",
        "    train=True,\n",
        "    download=True,\n",
        "    transform=transform\n",
        ")\n",
        "test_data=datasets.CIFAR10(\n",
        "    root='./data/',\n",
        "    train=False,\n",
        "    download=True,\n",
        "    transform=transform\n",
        ")\n",
        "train_set, val_set = random_split( train_data,[40000, 10000])\n",
        "\n",
        "train_loader=torch.utils.data.DataLoader(train_set,batch_size=32,shuffle=True)\n",
        "validation_loader=torch.utils.data.DataLoader(val_set,batch_size=32,shuffle=True)\n",
        "test_loader=torch.utils.data.DataLoader(test_data,batch_size=32,shuffle=False)\n"
      ],
      "metadata": {
        "colab": {
          "base_uri": "https://localhost:8080/"
        },
        "id": "dDubIXEf7Vus",
        "outputId": "40a453a4-3210-4e8e-c0fc-27000117d697"
      },
      "execution_count": null,
      "outputs": [
        {
          "output_type": "stream",
          "name": "stdout",
          "text": [
            "Files already downloaded and verified\n",
            "Files already downloaded and verified\n"
          ]
        }
      ]
    },
    {
      "cell_type": "markdown",
      "source": [
        "# Model"
      ],
      "metadata": {
        "id": "uko4EbA4jOt6"
      }
    },
    {
      "cell_type": "code",
      "source": [
        "class AlexNet(nn.Module):\n",
        "\n",
        "    def __init__(self, num_classes):\n",
        "        super(AlexNet, self).__init__()\n",
        "        self.features = nn.Sequential(\n",
        "            nn.Conv2d(3, 96, kernel_size=11, stride=4, padding=0),\n",
        "            nn.BatchNorm2d(96),\n",
        "            nn.ReLU(inplace=True),\n",
        "            nn.MaxPool2d(kernel_size=3, stride=2),\n",
        "\n",
        "            nn.Conv2d(96, 256, kernel_size=5, padding=2),\n",
        "             nn.BatchNorm2d(256),\n",
        "            nn.ReLU(inplace=True),\n",
        "            nn.MaxPool2d(kernel_size=3, stride=2),\n",
        "\n",
        "            nn.Conv2d(256, 384, kernel_size=3, padding=1),\n",
        "             nn.BatchNorm2d(384),\n",
        "            nn.ReLU(inplace=True),\n",
        "\n",
        "            nn.Conv2d(384, 384, kernel_size=3, padding=1),\n",
        "             nn.BatchNorm2d(384),\n",
        "            nn.ReLU(inplace=True),\n",
        "\n",
        "            nn.Conv2d(384, 256, kernel_size=3, padding=1),\n",
        "             nn.BatchNorm2d(256),\n",
        "            nn.ReLU(inplace=True),\n",
        "            nn.MaxPool2d(kernel_size=3, stride=2),\n",
        "        )\n",
        "\n",
        "        self.classifier = nn.Sequential(\n",
        "            nn.Dropout(0.5),\n",
        "            nn.Linear(256 * 6 * 6, 4096),\n",
        "            nn.ReLU(inplace=True),\n",
        "            nn.Dropout(0.5),\n",
        "            nn.Linear(4096, 4096),\n",
        "            nn.ReLU(inplace=True),\n",
        "            nn.Linear(4096, num_classes)\n",
        "        )\n",
        "\n",
        "    def forward(self, x):\n",
        "        x = self.features(x)\n",
        "        x = x.view(x.size(0), -1)\n",
        "        x = self.classifier(x)\n",
        "        prob = F.softmax(x, dim=1)\n",
        "        return x\n",
        "\n",
        "\n",
        "model=AlexNet(10).to(device)"
      ],
      "metadata": {
        "id": "hxqew5P1mR2u"
      },
      "execution_count": null,
      "outputs": []
    },
    {
      "cell_type": "markdown",
      "source": [
        "# Defining  Training Loop"
      ],
      "metadata": {
        "id": "vPh2kQA1vzo_"
      }
    },
    {
      "cell_type": "code",
      "source": [
        "def training_loop(n_epochs, optimizer, model, loss_fn):\n",
        "    for epoch in range(n_epochs):\n",
        "\n",
        "      train_loss=0.0\n",
        "      model.train()\n",
        "      for inputs, labels in train_loader:\n",
        "        inputs = inputs.to(device)\n",
        "        labels = labels.to(device)\n",
        "        outputs = model(inputs)\n",
        "        loss = loss_fn(outputs, labels)\n",
        "        optimizer.zero_grad()\n",
        "        loss.backward()\n",
        "        optimizer.step()\n",
        "        train_loss += loss.item()\n",
        "\n",
        "      val_loss=0.0\n",
        "      model.eval()\n",
        "      for inputs, labels in validation_loader:\n",
        "        inputs = inputs.to(device)\n",
        "        labels = labels.to(device)\n",
        "        outputs = model(inputs)\n",
        "        loss = loss_fn(outputs, labels)\n",
        "        val_loss += loss.item()\n",
        "\n",
        "      print(\"Epoch: {} /{} Train Loss: {} Val Loss: {}\".format(epoch+1,n_epochs, train_loss/len(train_loader), val_loss/len(validation_loader)))\n",
        "\n"
      ],
      "metadata": {
        "id": "G-KybCxEly9I"
      },
      "execution_count": null,
      "outputs": []
    },
    {
      "cell_type": "markdown",
      "source": [
        "# Training\n"
      ],
      "metadata": {
        "id": "lgG5Whg2HKTQ"
      }
    },
    {
      "cell_type": "code",
      "source": [
        "optimizer=optim.SGD(model.parameters(),lr=0.005)\n",
        "loss_fn=nn.CrossEntropyLoss()\n",
        "training_loop(\n",
        "    n_epochs=10,\n",
        "    optimizer=optimizer,\n",
        "    model=model,\n",
        "    loss_fn=loss_fn)\n",
        "\n"
      ],
      "metadata": {
        "colab": {
          "base_uri": "https://localhost:8080/"
        },
        "id": "an3at9IaQI6q",
        "outputId": "938933f4-243d-4ff8-c2fb-e4dfaebbc9cb"
      },
      "execution_count": null,
      "outputs": [
        {
          "output_type": "stream",
          "name": "stdout",
          "text": [
            "Epoch: 1 /10 Train Loss: 1.5093601583003997 Val Loss: 1.2020336857999856\n",
            "Epoch: 2 /10 Train Loss: 1.101154917907715 Val Loss: 0.8943101211477773\n",
            "Epoch: 3 /10 Train Loss: 0.9045708149909973 Val Loss: 0.8160366955847024\n",
            "Epoch: 4 /10 Train Loss: 0.7941016122102738 Val Loss: 1.0441853007950341\n",
            "Epoch: 5 /10 Train Loss: 0.7163511782884597 Val Loss: 0.7277457853094839\n",
            "Epoch: 6 /10 Train Loss: 0.6448807433128357 Val Loss: 0.6465621618226695\n",
            "Epoch: 7 /10 Train Loss: 0.5894307572245597 Val Loss: 0.6466705874798778\n",
            "Epoch: 8 /10 Train Loss: 0.5433457347512245 Val Loss: 0.6347414367496015\n",
            "Epoch: 9 /10 Train Loss: 0.5008763216018677 Val Loss: 0.634696934550715\n",
            "Epoch: 10 /10 Train Loss: 0.4658649053752422 Val Loss: 0.5510636040101797\n"
          ]
        }
      ]
    },
    {
      "cell_type": "code",
      "source": [
        "num_correct = 0.0\n",
        "for x_test_batch, y_test_batch in test_loader:\n",
        "  model.eval()\n",
        "  y_test_batch = y_test_batch.to(device)\n",
        "  x_test_batch = x_test_batch.to(device)\n",
        "  y_pred_batch = model(x_test_batch)\n",
        "  _, predicted = torch.max(y_pred_batch, 1)\n",
        "  num_correct += (predicted ==y_test_batch).float().sum()\n",
        "  accuracy = num_correct/(len(test_loader) *test_loader.batch_size)\n",
        "print(len(test_loader), test_loader.batch_size)\n",
        "print(\"Test Accuracy: {}\".format(accuracy))"
      ],
      "metadata": {
        "colab": {
          "base_uri": "https://localhost:8080/"
        },
        "id": "pvW79RqjJTfN",
        "outputId": "6120ac33-9471-489e-c9e7-0eb47f52f051"
      },
      "execution_count": null,
      "outputs": [
        {
          "output_type": "stream",
          "name": "stdout",
          "text": [
            "313 32\n",
            "Test Accuracy: 0.809105396270752\n"
          ]
        }
      ]
    }
  ]
}